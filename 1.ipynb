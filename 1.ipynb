{
 "cells": [
  {
   "cell_type": "code",
   "execution_count": 20,
   "id": "1d731add",
   "metadata": {},
   "outputs": [],
   "source": [
    "auth_token='MmI5ZDBkMWUtOGQ4MC00MDlhLTk2MDAtMWNhYzJkNzRjOTA3OjQyOGNhNTc1LTk0ZjEtNDkxMS1hM2QwLThiMDMzMDZlZDkyOA=='\n",
    "GIGA_CLIENT_ID='2b9d0d1e-8d80-409a-9600-1cac2d74c907'\n",
    "GIGA_CLIENT_SECRET='428ca575-94f1-4911-a3d0-8b03306ed928'\n",
    "GIGA_SCOPE='GIGACHAT_API_PERS'\n"
   ]
  },
  {
   "cell_type": "code",
   "execution_count": 16,
   "id": "33abf2f8",
   "metadata": {},
   "outputs": [
    {
     "name": "stdout",
     "output_type": "stream",
     "text": [
      "{\"code\":4,\"message\":\"Can't decode 'Authorization' header\"}\n"
     ]
    },
    {
     "name": "stderr",
     "output_type": "stream",
     "text": [
      "c:\\Users\\skoro\\Downloads\\e-commerce-mas\\.venv\\Lib\\site-packages\\urllib3\\connectionpool.py:1097: InsecureRequestWarning: Unverified HTTPS request is being made to host 'ngw.devices.sberbank.ru'. Adding certificate verification is strongly advised. See: https://urllib3.readthedocs.io/en/latest/advanced-usage.html#tls-warnings\n",
      "  warnings.warn(\n"
     ]
    }
   ],
   "source": [
    "import requests\n",
    "Authorization_key = 'MmI5ZDBkMWUtOGQ4MC00MDlhLTk2MDAtMWNhYzJkNzRjOTA3OjQyOGNhNTc1LTk0ZjEtNDkxMS1hM2QwLThiMDMzMDZlZDkyOA=='\n",
    "\n",
    "url = \"https://ngw.devices.sberbank.ru:9443/api/v2/oauth\"\n",
    "\n",
    "payload={\n",
    "  'scope': 'GIGACHAT_API_PERS'\n",
    "}\n",
    "headers = {\n",
    "  'Content-Type': 'application/x-www-form-urlencoded',\n",
    "  'Accept': 'application/json',\n",
    "  'RqUID': 'ba57d44e-3411-4c17-b7ae-222948340fe1',\n",
    "  'Authorization': 'Basic <Authorization_key>'\n",
    "}\n",
    "\n",
    "response = requests.request(\"POST\", url, headers=headers, data=payload, verify = False)\n",
    "\n",
    "print(response.text)"
   ]
  },
  {
   "cell_type": "code",
   "execution_count": 15,
   "id": "a5f74ab2",
   "metadata": {},
   "outputs": [
    {
     "name": "stdout",
     "output_type": "stream",
     "text": [
      "6f911c3d-f181-4e7a-8991-b4c9ad74695d\n",
      "{\"code\":4,\"message\":\"Can't decode 'Authorization' header\"}\n"
     ]
    },
    {
     "name": "stderr",
     "output_type": "stream",
     "text": [
      "c:\\Users\\skoro\\Downloads\\e-commerce-mas\\.venv\\Lib\\site-packages\\urllib3\\connectionpool.py:1097: InsecureRequestWarning: Unverified HTTPS request is being made to host 'ngw.devices.sberbank.ru'. Adding certificate verification is strongly advised. See: https://urllib3.readthedocs.io/en/latest/advanced-usage.html#tls-warnings\n",
      "  warnings.warn(\n"
     ]
    }
   ],
   "source": [
    "import requests\n",
    "import uuid\n",
    "#import auth from .env\n",
    "GIGA_AUTH='MmI5ZDBkMWUtOGQ4MC00MDlhLTk2MDAtMWNhYzJkNzRjOTA3OjQyOGNhNTc1LTk0ZjEtNDkxMS1hM2QwLThiMDMzMDZlZDkyOA=='\n",
    "\n",
    "\n",
    "url = \"https://ngw.devices.sberbank.ru:9443/api/v2/oauth\"\n",
    "\n",
    "payload={\n",
    "  'scope': 'GIGACHAT_API_PERS'\n",
    "}\n",
    "\n",
    "rq_uid = str(uuid.uuid4())\n",
    "\n",
    "print(rq_uid)\n",
    "\n",
    "headers = {\n",
    "  'Content-Type': 'application/x-www-form-urlencoded',\n",
    "  'Accept': 'application/json',\n",
    "  'RqUID': rq_uid,\n",
    "  'Authorization': 'MmI5ZDBkMWUtOGQ4MC00MDlhLTk2MDAtMWNhYzJkNzRjOTA3OjQyOGNhNTc1LTk0ZjEtNDkxMS1hM2QwLThiMDMzMDZlZDkyOA'\n",
    "}\n",
    "\n",
    "response = requests.request(\"POST\",url,headers=headers,data=payload,verify = False)\n",
    "\n",
    "print(response.text)"
   ]
  },
  {
   "cell_type": "code",
   "execution_count": 20,
   "id": "ee90541b",
   "metadata": {},
   "outputs": [
    {
     "name": "stdout",
     "output_type": "stream",
     "text": [
      "{\"status\":401,\"message\":\"Unauthorized\"}\n",
      "\n"
     ]
    },
    {
     "name": "stderr",
     "output_type": "stream",
     "text": [
      "c:\\Users\\skoro\\Downloads\\e-commerce-mas\\.venv\\Lib\\site-packages\\urllib3\\connectionpool.py:1097: InsecureRequestWarning: Unverified HTTPS request is being made to host '127.0.0.1'. Adding certificate verification is strongly advised. See: https://urllib3.readthedocs.io/en/latest/advanced-usage.html#tls-warnings\n",
      "  warnings.warn(\n"
     ]
    }
   ],
   "source": [
    "import requests\n",
    "\n",
    "url = \"https://gigachat.devices.sberbank.ru/api/v1/models\"\n",
    "\n",
    "payload={}\n",
    "headers = {\n",
    "  'Accept': 'application/json',\n",
    "  'Authorization': 'Bearer <Access token>'\n",
    "}\n",
    "\n",
    "response = requests.request(\"GET\", url, headers=headers, data=payload, verify=False)\n",
    "\n",
    "print(response.text)"
   ]
  },
  {
   "cell_type": "code",
   "execution_count": 21,
   "id": "6cfadb61",
   "metadata": {},
   "outputs": [],
   "source": [
    "import uuid\n",
    "\n",
    "def get_token(auth_token, scope = 'GIGACHAT_API_PERS'):\n",
    "    '''\n",
    "    POST - запрос к эндингу, который выдает токен\n",
    "    auth_token - токен авторизации, необходимый для запроса\n",
    "    возвращает API, где есть токен и его срок действия\n",
    "    '''\n",
    "    #создаем идентификатор uuid для запроса\n",
    "    rq_uid = str(uuid.uuid4())\n",
    "\n",
    "    #api url for auth\n",
    "    \n",
    "    url = \"https://ngw.devices.sberbank.ru:9443/api/v2/oauth\"\n",
    "\n",
    "    headers = {\n",
    "        'Content_Type' : 'application/x-www-form-urlencoded',\n",
    "        'Accept' : 'application/json',\n",
    "        'RqUID' : rq_uid,\n",
    "        'Authorization' : f'Basic {auth_token}'\n",
    "    }\n",
    "\n",
    "    #тело запроса\n",
    "\n",
    "    payload = {\n",
    "        'scope' : scope\n",
    "    }\n",
    "\n",
    "\n",
    "    #post-запрос для получения\n",
    "\n",
    "    try:\n",
    "        response = requests.post(url, headers = headers, data = payload, verify = False)\n",
    "        return response\n",
    "    except requests.RequestException as e:\n",
    "        print(f'Ошибка: {str(e)}')\n",
    "        return -1"
   ]
  },
  {
   "cell_type": "code",
   "execution_count": 22,
   "id": "dab873fb",
   "metadata": {},
   "outputs": [
    {
     "name": "stdout",
     "output_type": "stream",
     "text": [
      "{\"access_token\":\"eyJjdHkiOiJqd3QiLCJlbmMiOiJBMjU2Q0JDLUhTNTEyIiwiYWxnIjoiUlNBLU9BRVAtMjU2In0.SYTe4OemIdqaqeQdsEl49iLmvH6zGIXW4czkm8C5_loD2YFirvvHU7ma983j8wD4_6j80RMqdzU6ULhATC0L6x9E1bbnlPYZfkuij75F-3cOYOse6P1nov3TNN07Eixi1G6AMChIbMMZDS2nLE42K3TZAH4_z1ccd6Sj4gO1r0ATuUYONpY4AAX_8xfM_fhPOJNMPJN7o3JcAqQg0hCBTzgsRYSFBfDl8cvN-JaeCVSgXFxplGJq-qItzgeoZICGdXc4VpKhtM6abg_L74cs2sm6itB--YaaC_mlAumwCcVJ8I5o8NF4xjgdqyG6bmLBGoxGElWuLoBp--rTj6cs4A.0H6XdXFuOA5uZAmNsQ3-MQ.yaili60SgvYCOuBT302QdEn_uVerkzIi_gtW9j6c4jYNLlRbMe8Ay81xkWZHGb60Zycg290k_CwbiIEBU8-aFOSSTs2YsxyKFA1aRZ4etGljL0nnMz_e_31_H26RJeST5UDfaWjQajX1XjyTYZ2-9oMVMbXtpPrEBxv52zeBQ7nSuvpcOceYhR0ISfq0NvbnK1GYiR82BIrH3TfAUA3DT3cDpgurncqZaIsOdY4KjvYIAAsoUWTBaA0R46LQLuQnLB1aNpHUYsJN1f-wL7uHMMtOwHorZqbg93liTX8fQ3Qr4eYIWYC2TGuNx7Uzg6Mstjev7xc1cSBZGnqLSv2mvTTVydKLmX9P9wkojijTnm23Pyqy7fyN-YJafm7YJ02OwqCUos21YjBkE7seqfaqqMzXhUDjnZPMwZIPRC_y33ccb9vuEeMwfju7quy4zG6MXg3lh9j3XgH-_NS0tGSGIidO9OsxxuDjc0TduhCe57n3e53kVPRPWpLilVsok46spbhvvnKRTgxp7x8T7Ys9B7AgRbQwkD88T9ICQOR7YnC76YvT-1OrdpFEZwUJCw2K7JhaeED9tS1qaGGix_AOMYOw6-olgauZa6bc4BcPjf6UEYydXcTny88aRuwXSFaGvYYQFuQt2gBbJJS0ZSnUi3R21sJyOR-hs0fMDmgkSYG6K4PeGaUnQX2XTrvBKKwckEL8cpnoHXDz0LF4AsXsEaB9nxwHGi6056CMFE5MzxE.dy4Ay6WA9KdKXUsjmOzg0lFttgu4r2PZ5uxT76wPbTQ\",\"expires_at\":1747146548558}\n"
     ]
    },
    {
     "name": "stderr",
     "output_type": "stream",
     "text": [
      "c:\\Users\\skoro\\Downloads\\e-commerce-mas\\.venv\\Lib\\site-packages\\urllib3\\connectionpool.py:1097: InsecureRequestWarning: Unverified HTTPS request is being made to host 'ngw.devices.sberbank.ru'. Adding certificate verification is strongly advised. See: https://urllib3.readthedocs.io/en/latest/advanced-usage.html#tls-warnings\n",
      "  warnings.warn(\n"
     ]
    }
   ],
   "source": [
    "response = get_token(auth_token)\n",
    "if response != 1:\n",
    "    print(response.text)\n",
    "    giga_token = response.json()['access_token']"
   ]
  },
  {
   "cell_type": "code",
   "execution_count": null,
   "id": "f6c29bd9",
   "metadata": {},
   "outputs": [],
   "source": [
    "print (giga_token)"
   ]
  },
  {
   "cell_type": "code",
   "execution_count": null,
   "id": "a475c8a7",
   "metadata": {},
   "outputs": [],
   "source": [
    "import requests\n",
    "\n",
    "url = \"https://gigachat.devices.sberbank.ru/api/v1/models\"\n",
    "\n",
    "payload = {}\n",
    "\n",
    "headers = {\n",
    "    'Accept': 'application/json',\n",
    "    'Authorization': f'Bearer {giga_token}'\n",
    "}\n",
    "\n",
    "response = requests.request('GET', url, headers=headers, data = payload, verify = True)\n",
    "\n",
    "print (response.text)"
   ]
  },
  {
   "cell_type": "code",
   "execution_count": null,
   "id": "838bae8e",
   "metadata": {},
   "outputs": [],
   "source": [
    "import requests\n",
    "import json\n",
    "\n",
    "def get_chat_completion(auth_token, user_message):\n",
    "    '''\n",
    "    Post - запрос к API для LLM\n",
    "\n",
    "    auth_token - токен для авторизации\n",
    "    user_message - сообщение, на которое нужно будет ответить\n",
    "\n",
    "    ответ будет в виде текстовой строки\n",
    "    '''\n",
    "\n",
    "    #обращаемся к этому\n",
    "    url = \"https://gigachat.devices.sberbank.ru/api/v1/chat/completions\"\n",
    "\n",
    "    payload = json.dumps({\n",
    "        'model': 'GigaChat',\n",
    "        'messages' : [\n",
    "            {\n",
    "                'role': 'user',\n",
    "                'content': user_message\n",
    "            }\n",
    "        ]\n",
    "    })\n",
    "\n",
    "    headers = {\n",
    "        'Content-Type' : 'application/json',\n",
    "        'Accept': 'application/json',\n",
    "        'Authorization': f'Bearer {auth_token}'\n",
    "    }\n",
    "\n",
    "    try:\n",
    "        response = requests.request('POST', url, headers=headers, data = payload)\n",
    "        return response\n",
    "    except requests.RequestException as e:\n",
    "        print(f'ОШИБКА : {str(e)}')\n",
    "        return -1"
   ]
  },
  {
   "cell_type": "code",
   "execution_count": null,
   "id": "39621fc4",
   "metadata": {},
   "outputs": [],
   "source": [
    "user_message = 'Почему мы видим желтое а не красное солнце?'"
   ]
  }
 ],
 "metadata": {
  "kernelspec": {
   "display_name": ".venv",
   "language": "python",
   "name": "python3"
  },
  "language_info": {
   "codemirror_mode": {
    "name": "ipython",
    "version": 3
   },
   "file_extension": ".py",
   "mimetype": "text/x-python",
   "name": "python",
   "nbconvert_exporter": "python",
   "pygments_lexer": "ipython3",
   "version": "3.13.3"
  }
 },
 "nbformat": 4,
 "nbformat_minor": 5
}
